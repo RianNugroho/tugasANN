{
  "nbformat": 4,
  "nbformat_minor": 0,
  "metadata": {
    "colab": {
      "name": "JST_AANN.ipynb",
      "provenance": [],
      "collapsed_sections": [],
      "authorship_tag": "ABX9TyOdlbh2u19iGsbsVqqpVBu6",
      "include_colab_link": true
    },
    "kernelspec": {
      "name": "python3",
      "display_name": "Python 3"
    }
  },
  "cells": [
    {
      "cell_type": "markdown",
      "metadata": {
        "id": "view-in-github",
        "colab_type": "text"
      },
      "source": [
        "<a href=\"https://colab.research.google.com/github/RianNugroho/tugasANN/blob/master/JST_AANN.ipynb\" target=\"_parent\"><img src=\"https://colab.research.google.com/assets/colab-badge.svg\" alt=\"Open In Colab\"/></a>"
      ]
    },
    {
      "cell_type": "code",
      "metadata": {
        "id": "xg3-vNrg151f",
        "colab_type": "code",
        "colab": {}
      },
      "source": [
        "import math\n",
        "import numpy as np\n",
        "\n",
        "\n",
        "def backpropOutput(index_datasets, label, activation, weight, learning_rate, x_in):\n",
        "    delta = np.zeros((1, len(activation[0])))\n",
        "    for i in range(len(activation[0])):\n",
        "        delta[0][i] = ( activation[0][i]-label[index_datasets][i]) * activation[0][i] * (1 - activation[0][i])\n",
        "    \n",
        "    for i in range(len(weight) - 1):\n",
        "        for j in range(len(weight[i])):\n",
        "            weight[i][j] += learning_rate * delta[0][j] * x_in[0][i]\n",
        "    for i in range(len(weight[len(weight) - 1])):\n",
        "        weight[len(weight) - 1][i] = learning_rate * delta[0][i]\n",
        "    return delta, weight\n",
        "\n",
        "\n",
        "def backpropHiddenLayer(old_weight,weight, activation, next_err, learning_rate, x_in):\n",
        "    delta_in=np.zeros((1,6))\n",
        "    temp=np.zeros((len(weight)-1,len(weight[0])))\n",
        "    for i in range(len(weight)-1):\n",
        "        for j in range(len(weight[i])):\n",
        "            temp[i][j]=weight[i][j]\n",
        "   \n",
        "    \n",
        "    delta_in=np.matmul(next_err,np.transpose(temp))\n",
        "    weight_correction=learning_rate*delta_in*(1-delta_in)*np.transpose(x_in)\n",
        "    old_weight+=weight_correction\n",
        "\n",
        "    return delta_in,old_weight\n",
        "\n",
        "def sigmoidActivation(activation):\n",
        "    for k in range(len(activation[0])):\n",
        "        activation[0][k] = math.tanh(activation[0][k])\n",
        "    return activation\n",
        "\n",
        "\n",
        "def lastsigmoidActivation(activation):\n",
        "    max = 0\n",
        "    index = 0\n",
        "    for k in range(len(activation[0])):\n",
        "        activation[0][k] = math.tanh(activation[0][k])\n",
        "        if (k == 0):\n",
        "            max = activation[0][k]\n",
        "        elif (activation[0][k] > max):\n",
        "            max = activation[0][k]\n",
        "            index = k\n",
        "    for i in range(len(activation[0])):\n",
        "        if(i!=index):\n",
        "          activation[0][i]=0\n",
        "\n",
        "    return activation\n",
        "\n",
        "\n",
        "def multiply(a, b):\n",
        "    temp=np.zeros((1,len(a[0])+1))\n",
        "    for i in range(len(a[0])):\n",
        "      temp[0][i]=a[0][i]\n",
        "    temp[0][len(temp[0])-1]=-1\n",
        "    activation = np.matmul(temp, b)\n",
        "    return activation\n",
        "\n",
        "\n",
        "def train(datasets, epoch, learning_rate, label):\n",
        "    ##jangan lupa taruh bias\n",
        "    layer1 = np.random.rand(7, 6)\n",
        "    activation1 = np.zeros((1, 6))\n",
        "    layer2 = np.random.rand(7, 2)\n",
        "    activation2 = np.zeros((1, 2))\n",
        "    layer3 = np.random.rand(3, 6)\n",
        "    activation3 = np.zeros((1, 6))\n",
        "    layer4 = np.random.rand(7, 3)\n",
        "    activation4 = np.zeros((1, 3))\n",
        "    ##input to mapping layer\n",
        "    for i in range(epoch):\n",
        "        for j in range(len(datasets)):\n",
        "            \n",
        "            activation1 = multiply(datasets[j], layer1)\n",
        "            activation1 = sigmoidActivation(activation1)\n",
        "            print(activation1)\n",
        "            ##mapping layer to bottleneck layer\n",
        "            activation2 = multiply(activation1, layer2)\n",
        "            activation2 = sigmoidActivation(activation2)\n",
        "            ##bottleneck layer to demapping layer\n",
        "            activation3 = multiply(activation2, layer3)\n",
        "            activation3 = sigmoidActivation(activation3)\n",
        "            ##demapping layer to output layer\n",
        "            activation4 = np.matmul(activation3, layer4)\n",
        "            activation4 = sigmoidActivation(activation4)\n",
        "           \n",
        "            ##backpropagation\n",
        "\n",
        "            delta, layer4 = backpropOutput(j, label, activation4, layer4, learning_rate, activation3)\n",
        "            delta, layer3 = backpropHiddenLayer(layer3,layer4, activation3, delta, learning_rate, activation2)\n",
        "            delta, layer2 = backpropHiddenLayer(layer2,layer3, activation2, delta, learning_rate, activation1)\n",
        "            delta, layer1 = backpropHiddenLayer(layer1,layer2, activation1, delta, learning_rate, datasets[j])\n",
        "\n",
        "    return [layer1, layer2, layer3, layer4]\n",
        "\n",
        "def predict(datasets,model):\n",
        "\n",
        "    layer1 = model[0]\n",
        "    activation1 = np.zeros((1, 6))\n",
        "    layer2 = model[1]\n",
        "    activation2 = np.zeros((1, 2))\n",
        "    layer3 = model[2]\n",
        "    activation3 = np.zeros((1, 6))\n",
        "    layer4 = model[3]\n",
        "    activation4 = np.zeros((1, 3))\n",
        "    ##input to mapping layer\n",
        "    temp = np.zeros((1, 7))\n",
        "    for k in range(len(datasets)):\n",
        "        temp[0][k] = datasets[k]\n",
        "    temp[0][len(temp[0])-1] = -1\n",
        "    activation1 = multiply(temp, layer1)\n",
        "    activation1 = sigmoidActivation(activation1)\n",
        "    print(\"aktivasi 1\")\n",
        "    print(activation1)\n",
        "    ##mapping layer to bottleneck layer\n",
        "    activation2 = multiply(activation1, layer2)\n",
        "    activation2 = sigmoidActivation(activation2)\n",
        "    print(\"aktivasi 2\")\n",
        "    print(activation2)\n",
        "    ##bottleneck layer to demapping layer\n",
        "    activation3 = multiply(activation2, layer3)\n",
        "    activation3 = sigmoidActivation(activation3)\n",
        "    print(\"aktivasi 3\")\n",
        "    print(activation3)\n",
        "    ##demapping layer to output layer\n",
        "    activation4 = np.matmul(activation3, layer4)\n",
        "    activation4 = sigmoidActivation(activation4)\n",
        "    print(\"aktivasi 4\")\n",
        "\n",
        "    return activation4\n"
      ],
      "execution_count": 0,
      "outputs": []
    },
    {
      "cell_type": "code",
      "metadata": {
        "id": "ANn7RgdJ2MsN",
        "colab_type": "code",
        "colab": {}
      },
      "source": [
        "import pandas as pd"
      ],
      "execution_count": 0,
      "outputs": []
    },
    {
      "cell_type": "code",
      "metadata": {
        "id": "zGTJIvtj2Qy6",
        "colab_type": "code",
        "colab": {}
      },
      "source": [
        "file=pd.read_csv(\"https://raw.githubusercontent.com/RianNugroho/tugasANN/master/datasetNew.csv\")"
      ],
      "execution_count": 0,
      "outputs": []
    },
    {
      "cell_type": "code",
      "metadata": {
        "id": "kNKeEfgX2VI_",
        "colab_type": "code",
        "outputId": "b0974f4b-deaf-4208-a81d-ffac6824f94b",
        "colab": {
          "base_uri": "https://localhost:8080/",
          "height": 34
        }
      },
      "source": [
        "\n",
        "datasets=[]\n",
        "for i in range(len(file['target'])):\n",
        "  temp=[]\n",
        "  for key in file:\n",
        "    if(key!='target'):\n",
        "      temp+=[file[key][i]]\n",
        "  datasets+=[temp]\n",
        "min=[0,0,0,0,0,0]\n",
        "max=[0,0,0,0,0,0]\n",
        "for i in range(len(datasets)):\n",
        "  for j in range(len(datasets[i])):\n",
        "    if(i==0):\n",
        "      min[j]=datasets[i][j]\n",
        "      max[j]=datasets[i][j]\n",
        "    else:\n",
        "      if(datasets[i][j]<min[j]):\n",
        "        min[j]=datasets[i][j]\n",
        "      if(datasets[i][j]>max[j]):\n",
        "        max[j]=datasets[i][j]\n",
        "print(min,max)\n",
        "for i in range(len(datasets)):\n",
        "  for j in range(len(datasets[i])):\n",
        "    datasets[i][j]=(datasets[i][j]-min[j])/(max[j]-min[j])"
      ],
      "execution_count": 828,
      "outputs": [
        {
          "output_type": "stream",
          "text": [
            "[75148495, 0.05722679, 0.39158708, 0.93986457, 14154961, 0.00327491] [954195095, 0.07792213, 0.50627049, 0.97394237, 211956522, 0.00607186]\n"
          ],
          "name": "stdout"
        }
      ]
    },
    {
      "cell_type": "code",
      "metadata": {
        "id": "eluDMzFV7wJY",
        "colab_type": "code",
        "colab": {}
      },
      "source": [
        "label=np.zeros((len(file['target']),3))\n",
        "for i in range(len(file['target'])):\n",
        "  if(file['target'][i]==1):\n",
        "    label[i][0]=1\n",
        "    label[i][1]=0\n",
        "    label[i][2]=0\n",
        "  elif(file['target'][i]==2):\n",
        "    label[i][0]=0\n",
        "    label[i][1]=1\n",
        "    label[i][2]=0\n",
        "  elif(file['target'][i]==3):\n",
        "    label[i][0]=0\n",
        "    label[i][1]=0\n",
        "    label[i][2]=1\n"
      ],
      "execution_count": 0,
      "outputs": []
    },
    {
      "cell_type": "code",
      "metadata": {
        "id": "7VbBxzS82-xn",
        "colab_type": "code",
        "outputId": "9713f28a-c0cb-428c-8243-052fd6dc33ce",
        "colab": {
          "base_uri": "https://localhost:8080/",
          "height": 484
        }
      },
      "source": [
        "datasets=np.array(datasets)\n",
        "np.random.shuffle(datasets)\n",
        "model=train(datasets,500,0.01, label)\n",
        "print(model)"
      ],
      "execution_count": 830,
      "outputs": [
        {
          "output_type": "error",
          "ename": "TypeError",
          "evalue": "ignored",
          "traceback": [
            "\u001b[0;31m---------------------------------------------------------------------------\u001b[0m",
            "\u001b[0;31mTypeError\u001b[0m                                 Traceback (most recent call last)",
            "\u001b[0;32m<ipython-input-830-de3c2bba0b5c>\u001b[0m in \u001b[0;36m<module>\u001b[0;34m()\u001b[0m\n\u001b[1;32m      1\u001b[0m \u001b[0mdatasets\u001b[0m\u001b[0;34m=\u001b[0m\u001b[0mnp\u001b[0m\u001b[0;34m.\u001b[0m\u001b[0marray\u001b[0m\u001b[0;34m(\u001b[0m\u001b[0mdatasets\u001b[0m\u001b[0;34m)\u001b[0m\u001b[0;34m\u001b[0m\u001b[0;34m\u001b[0m\u001b[0m\n\u001b[1;32m      2\u001b[0m \u001b[0mnp\u001b[0m\u001b[0;34m.\u001b[0m\u001b[0mrandom\u001b[0m\u001b[0;34m.\u001b[0m\u001b[0mshuffle\u001b[0m\u001b[0;34m(\u001b[0m\u001b[0mdatasets\u001b[0m\u001b[0;34m)\u001b[0m\u001b[0;34m\u001b[0m\u001b[0;34m\u001b[0m\u001b[0m\n\u001b[0;32m----> 3\u001b[0;31m \u001b[0mmodel\u001b[0m\u001b[0;34m=\u001b[0m\u001b[0mtrain\u001b[0m\u001b[0;34m(\u001b[0m\u001b[0mdatasets\u001b[0m\u001b[0;34m,\u001b[0m\u001b[0;36m500\u001b[0m\u001b[0;34m,\u001b[0m\u001b[0;36m0.01\u001b[0m\u001b[0;34m,\u001b[0m \u001b[0mlabel\u001b[0m\u001b[0;34m)\u001b[0m\u001b[0;34m\u001b[0m\u001b[0;34m\u001b[0m\u001b[0m\n\u001b[0m\u001b[1;32m      4\u001b[0m \u001b[0mprint\u001b[0m\u001b[0;34m(\u001b[0m\u001b[0mmodel\u001b[0m\u001b[0;34m)\u001b[0m\u001b[0;34m\u001b[0m\u001b[0;34m\u001b[0m\u001b[0m\n",
            "\u001b[0;32m<ipython-input-825-5260f06fabcb>\u001b[0m in \u001b[0;36mtrain\u001b[0;34m(datasets, epoch, learning_rate, label)\u001b[0m\n\u001b[1;32m     76\u001b[0m         \u001b[0;32mfor\u001b[0m \u001b[0mj\u001b[0m \u001b[0;32min\u001b[0m \u001b[0mrange\u001b[0m\u001b[0;34m(\u001b[0m\u001b[0mlen\u001b[0m\u001b[0;34m(\u001b[0m\u001b[0mdatasets\u001b[0m\u001b[0;34m)\u001b[0m\u001b[0;34m)\u001b[0m\u001b[0;34m:\u001b[0m\u001b[0;34m\u001b[0m\u001b[0;34m\u001b[0m\u001b[0m\n\u001b[1;32m     77\u001b[0m \u001b[0;34m\u001b[0m\u001b[0m\n\u001b[0;32m---> 78\u001b[0;31m             \u001b[0mactivation1\u001b[0m \u001b[0;34m=\u001b[0m \u001b[0mmultiply\u001b[0m\u001b[0;34m(\u001b[0m\u001b[0mdatasets\u001b[0m\u001b[0;34m[\u001b[0m\u001b[0mj\u001b[0m\u001b[0;34m]\u001b[0m\u001b[0;34m,\u001b[0m \u001b[0mlayer1\u001b[0m\u001b[0;34m)\u001b[0m\u001b[0;34m\u001b[0m\u001b[0;34m\u001b[0m\u001b[0m\n\u001b[0m\u001b[1;32m     79\u001b[0m             \u001b[0mactivation1\u001b[0m \u001b[0;34m=\u001b[0m \u001b[0msigmoidActivation\u001b[0m\u001b[0;34m(\u001b[0m\u001b[0mactivation1\u001b[0m\u001b[0;34m)\u001b[0m\u001b[0;34m\u001b[0m\u001b[0;34m\u001b[0m\u001b[0m\n\u001b[1;32m     80\u001b[0m             \u001b[0mprint\u001b[0m\u001b[0;34m(\u001b[0m\u001b[0mactivation1\u001b[0m\u001b[0;34m)\u001b[0m\u001b[0;34m\u001b[0m\u001b[0;34m\u001b[0m\u001b[0m\n",
            "\u001b[0;32m<ipython-input-825-5260f06fabcb>\u001b[0m in \u001b[0;36mmultiply\u001b[0;34m(a, b)\u001b[0m\n\u001b[1;32m     54\u001b[0m \u001b[0;34m\u001b[0m\u001b[0m\n\u001b[1;32m     55\u001b[0m \u001b[0;32mdef\u001b[0m \u001b[0mmultiply\u001b[0m\u001b[0;34m(\u001b[0m\u001b[0ma\u001b[0m\u001b[0;34m,\u001b[0m \u001b[0mb\u001b[0m\u001b[0;34m)\u001b[0m\u001b[0;34m:\u001b[0m\u001b[0;34m\u001b[0m\u001b[0;34m\u001b[0m\u001b[0m\n\u001b[0;32m---> 56\u001b[0;31m     \u001b[0mtemp\u001b[0m\u001b[0;34m=\u001b[0m\u001b[0mnp\u001b[0m\u001b[0;34m.\u001b[0m\u001b[0mzeros\u001b[0m\u001b[0;34m(\u001b[0m\u001b[0;34m(\u001b[0m\u001b[0;36m1\u001b[0m\u001b[0;34m,\u001b[0m\u001b[0mlen\u001b[0m\u001b[0;34m(\u001b[0m\u001b[0ma\u001b[0m\u001b[0;34m[\u001b[0m\u001b[0;36m0\u001b[0m\u001b[0;34m]\u001b[0m\u001b[0;34m)\u001b[0m\u001b[0;34m+\u001b[0m\u001b[0;36m1\u001b[0m\u001b[0;34m)\u001b[0m\u001b[0;34m)\u001b[0m\u001b[0;34m\u001b[0m\u001b[0;34m\u001b[0m\u001b[0m\n\u001b[0m\u001b[1;32m     57\u001b[0m     \u001b[0;32mfor\u001b[0m \u001b[0mi\u001b[0m \u001b[0;32min\u001b[0m \u001b[0mrange\u001b[0m\u001b[0;34m(\u001b[0m\u001b[0mlen\u001b[0m\u001b[0;34m(\u001b[0m\u001b[0ma\u001b[0m\u001b[0;34m[\u001b[0m\u001b[0;36m0\u001b[0m\u001b[0;34m]\u001b[0m\u001b[0;34m)\u001b[0m\u001b[0;34m)\u001b[0m\u001b[0;34m:\u001b[0m\u001b[0;34m\u001b[0m\u001b[0;34m\u001b[0m\u001b[0m\n\u001b[1;32m     58\u001b[0m       \u001b[0mtemp\u001b[0m\u001b[0;34m[\u001b[0m\u001b[0;36m0\u001b[0m\u001b[0;34m]\u001b[0m\u001b[0;34m[\u001b[0m\u001b[0mi\u001b[0m\u001b[0;34m]\u001b[0m\u001b[0;34m=\u001b[0m\u001b[0ma\u001b[0m\u001b[0;34m[\u001b[0m\u001b[0;36m0\u001b[0m\u001b[0;34m]\u001b[0m\u001b[0;34m[\u001b[0m\u001b[0mi\u001b[0m\u001b[0;34m]\u001b[0m\u001b[0;34m\u001b[0m\u001b[0;34m\u001b[0m\u001b[0m\n",
            "\u001b[0;31mTypeError\u001b[0m: object of type 'numpy.float64' has no len()"
          ]
        }
      ]
    },
    {
      "cell_type": "code",
      "metadata": {
        "id": "A_BQZUfZE5Eq",
        "colab_type": "code",
        "colab": {}
      },
      "source": [
        "file=pd.read_csv(\"https://raw.githubusercontent.com/RianNugroho/tugasANN/master/data_uji.csv\")\n",
        "data_uji=[]\n",
        "for i in range(len(file['target'])):\n",
        "  temp=[]\n",
        "  for key in file:\n",
        "    if(key!='target'):\n",
        "      temp+=[file[key][i]]\n",
        "  data_uji+=[temp]\n",
        "min=[0,0,0,0,0,0]\n",
        "max=[0,0,0,0,0,0]\n",
        "for i in range(len(data_uji)):\n",
        "  for j in range(len(data_uji[i])):\n",
        "    if(i==0):\n",
        "      min[j]=data_uji[i][j]\n",
        "      max[j]=data_uji[i][j]\n",
        "    else:\n",
        "      if(data_uji[i][j]<min[j]):\n",
        "        min[j]=data_uji[i][j]\n",
        "      if(data_uji[i][j]>max[j]):\n",
        "        max[j]=data_uji[i][j]\n",
        "print(min,max)\n",
        "for i in range(len(data_uji)):\n",
        "  for j in range(len(data_uji[i])):\n",
        "    data_uji[i][j]=(data_uji[i][j]-min[j])/(max[j]-min[j])\n"
      ],
      "execution_count": 0,
      "outputs": []
    },
    {
      "cell_type": "code",
      "metadata": {
        "id": "EXxz8pA-3aee",
        "colab_type": "code",
        "colab": {}
      },
      "source": [
        "data_uji=np.array(data_uji)\n",
        "for i in range(len(data_uji)):\n",
        "  print(predict(data_uji[i],model))"
      ],
      "execution_count": 0,
      "outputs": []
    },
    {
      "cell_type": "code",
      "metadata": {
        "id": "8J6IGd7Z3r5X",
        "colab_type": "code",
        "colab": {}
      },
      "source": [
        ""
      ],
      "execution_count": 0,
      "outputs": []
    }
  ]
}